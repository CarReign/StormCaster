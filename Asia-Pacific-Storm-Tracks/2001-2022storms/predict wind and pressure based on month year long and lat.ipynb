{
 "cells": [
  {
   "cell_type": "code",
   "execution_count": 1,
   "id": "704f8f71-0ddf-463b-aa66-394790f3c4ea",
   "metadata": {},
   "outputs": [],
   "source": [
    "import pandas as pd\n",
    "from sklearn.model_selection import train_test_split\n",
    "from sklearn.ensemble import RandomForestRegressor\n",
    "from sklearn.metrics import mean_absolute_error\n",
    "import matplotlib.pyplot as plt\n",
    "import numpy as np\n",
    "from sklearn.model_selection import cross_val_score"
   ]
  },
  {
   "cell_type": "code",
   "execution_count": 2,
   "id": "df357e05-6a82-4f42-9641-62012d0b7ea9",
   "metadata": {},
   "outputs": [],
   "source": [
    "df = pd.read_csv(\"2001-2022storms.csv\")"
   ]
  },
  {
   "cell_type": "code",
   "execution_count": 3,
   "id": "2d06d417-69ff-473f-b16b-847ce15cd40e",
   "metadata": {},
   "outputs": [
    {
     "name": "stdout",
     "output_type": "stream",
     "text": [
      "Mean Absolute Error: 8.673768232055547\n"
     ]
    }
   ],
   "source": [
    "# Feature selection\n",
    "features = ['LAT', 'LONG', 'MONTH', 'YEAR']\n",
    "X = df[features]\n",
    "y = df['WIND']\n",
    "\n",
    "# Split the data into training and testing sets\n",
    "X_train, X_test, y_train, y_test = train_test_split(X, y, test_size=0.2, random_state=42)\n",
    "\n",
    "# Train a Random Forest Regressor\n",
    "model_wind = RandomForestRegressor()\n",
    "model_wind.fit(X_train, y_train)\n",
    "\n",
    "# Make predictions on the test set\n",
    "predictions = model_wind.predict(X_test)\n",
    "\n",
    "# Evaluate the model\n",
    "mae = mean_absolute_error(y_test, predictions)\n",
    "print(f'Mean Absolute Error: {mae}')"
   ]
  },
  {
   "cell_type": "code",
   "execution_count": 4,
   "id": "3773fe6b-df84-4197-a6b0-d84ed9103541",
   "metadata": {},
   "outputs": [
    {
     "name": "stdout",
     "output_type": "stream",
     "text": [
      "Mean Absolute Error: 8.564409495391486\n"
     ]
    }
   ],
   "source": [
    "# Split the data into training and testing sets\n",
    "X_train, X_test, y_train, y_test = train_test_split(X, y, test_size=0.2, random_state=42)\n",
    "\n",
    "# Train a Random Forest Regressor\n",
    "model_pressure = RandomForestRegressor()\n",
    "model_pressure.fit(X_train, y_train)\n",
    "\n",
    "# Make predictions on the test set\n",
    "predictions = model_pressure.predict(X_test)\n",
    "\n",
    "# Evaluate the model\n",
    "mae = mean_absolute_error(y_test, predictions)\n",
    "print(f'Mean Absolute Error: {mae}')"
   ]
  },
  {
   "cell_type": "code",
   "execution_count": 5,
   "id": "c895f0d8-1370-4099-af42-4657383397f0",
   "metadata": {},
   "outputs": [
    {
     "name": "stdout",
     "output_type": "stream",
     "text": [
      "Predicted Future WIND: 38.5\n",
      "Predicted Future PRESSURE: 37.65\n"
     ]
    }
   ],
   "source": [
    "# Feature selection for future instances\n",
    "future_instance = pd.DataFrame({\n",
    "    'LAT': [25.0],   # Replace with the desired future latitude\n",
    "    'LONG': [-80.0], # Replace with the desired future longitude\n",
    "    'MONTH': [1],    # Replace with the desired future month\n",
    "    'YEAR': [2024],    # Replace with the desired future year\n",
    "})\n",
    "\n",
    "# Make predictions for future WIND\n",
    "future_wind_prediction = model_wind.predict(future_instance)\n",
    "print(f'Predicted Future WIND: {future_wind_prediction[0]}')\n",
    "\n",
    "# Make predictions for future PRESSURE\n",
    "future_pressure_prediction = model_pressure.predict(future_instance)\n",
    "print(f'Predicted Future PRESSURE: {future_pressure_prediction[0]}')"
   ]
  },
  {
   "cell_type": "code",
   "execution_count": null,
   "id": "be4bc39a-235c-4a27-be29-92e81042070f",
   "metadata": {},
   "outputs": [],
   "source": []
  }
 ],
 "metadata": {
  "kernelspec": {
   "display_name": "Python 3 (ipykernel)",
   "language": "python",
   "name": "python3"
  },
  "language_info": {
   "codemirror_mode": {
    "name": "ipython",
    "version": 3
   },
   "file_extension": ".py",
   "mimetype": "text/x-python",
   "name": "python",
   "nbconvert_exporter": "python",
   "pygments_lexer": "ipython3",
   "version": "3.10.11"
  }
 },
 "nbformat": 4,
 "nbformat_minor": 5
}
