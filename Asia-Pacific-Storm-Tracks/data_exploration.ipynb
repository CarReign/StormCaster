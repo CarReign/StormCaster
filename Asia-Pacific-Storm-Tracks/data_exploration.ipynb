{
 "cells": [
  {
   "cell_type": "code",
   "execution_count": 4,
   "id": "7e2b7b12",
   "metadata": {},
   "outputs": [],
   "source": [
    "import pandas as pd\n",
    "import matplotlib.pyplot as plt\n",
    "from matplotlib.pyplot import subplots"
   ]
  },
  {
   "cell_type": "code",
   "execution_count": 5,
   "id": "59dbfd05",
   "metadata": {},
   "outputs": [],
   "source": [
    "df = pd.read_csv('APST.csv')"
   ]
  },
  {
   "cell_type": "code",
   "execution_count": 6,
   "id": "c378f3da",
   "metadata": {},
   "outputs": [
    {
     "data": {
      "text/html": [
       "<div>\n",
       "<style scoped>\n",
       "    .dataframe tbody tr th:only-of-type {\n",
       "        vertical-align: middle;\n",
       "    }\n",
       "\n",
       "    .dataframe tbody tr th {\n",
       "        vertical-align: top;\n",
       "    }\n",
       "\n",
       "    .dataframe thead th {\n",
       "        text-align: right;\n",
       "    }\n",
       "</style>\n",
       "<table border=\"1\" class=\"dataframe\">\n",
       "  <thead>\n",
       "    <tr style=\"text-align: right;\">\n",
       "      <th></th>\n",
       "      <th>REGION</th>\n",
       "      <th>STORM_NO</th>\n",
       "      <th>NAME</th>\n",
       "      <th>ADVISORY</th>\n",
       "      <th>ADV_DATE</th>\n",
       "      <th>ADV_HOUR</th>\n",
       "      <th>SPEED</th>\n",
       "      <th>PRESSURE</th>\n",
       "      <th>TYPE</th>\n",
       "      <th>LAT</th>\n",
       "      <th>LONG</th>\n",
       "    </tr>\n",
       "  </thead>\n",
       "  <tbody>\n",
       "    <tr>\n",
       "      <th>0</th>\n",
       "      <td>W</td>\n",
       "      <td>0</td>\n",
       "      <td>THIRTYSIX</td>\n",
       "      <td>0</td>\n",
       "      <td>2018-12-30</td>\n",
       "      <td>1800</td>\n",
       "      <td>30</td>\n",
       "      <td>0</td>\n",
       "      <td>D</td>\n",
       "      <td>111.0</td>\n",
       "      <td>6.6</td>\n",
       "    </tr>\n",
       "    <tr>\n",
       "      <th>1</th>\n",
       "      <td>W</td>\n",
       "      <td>0</td>\n",
       "      <td>THIRTYSIX</td>\n",
       "      <td>0</td>\n",
       "      <td>2018-12-30</td>\n",
       "      <td>1200</td>\n",
       "      <td>30</td>\n",
       "      <td>0</td>\n",
       "      <td>D</td>\n",
       "      <td>111.2</td>\n",
       "      <td>7.7</td>\n",
       "    </tr>\n",
       "    <tr>\n",
       "      <th>2</th>\n",
       "      <td>W</td>\n",
       "      <td>0</td>\n",
       "      <td>THIRTYFIVE</td>\n",
       "      <td>0</td>\n",
       "      <td>2018-12-29</td>\n",
       "      <td>1200</td>\n",
       "      <td>15</td>\n",
       "      <td>0</td>\n",
       "      <td>D</td>\n",
       "      <td>118.7</td>\n",
       "      <td>9.4</td>\n",
       "    </tr>\n",
       "    <tr>\n",
       "      <th>3</th>\n",
       "      <td>W</td>\n",
       "      <td>0</td>\n",
       "      <td>THIRTYFIVE</td>\n",
       "      <td>0</td>\n",
       "      <td>2018-12-29</td>\n",
       "      <td>600</td>\n",
       "      <td>20</td>\n",
       "      <td>0</td>\n",
       "      <td>D</td>\n",
       "      <td>119.3</td>\n",
       "      <td>9.2</td>\n",
       "    </tr>\n",
       "    <tr>\n",
       "      <th>4</th>\n",
       "      <td>W</td>\n",
       "      <td>0</td>\n",
       "      <td>THIRTYFIVE</td>\n",
       "      <td>0</td>\n",
       "      <td>2018-12-29</td>\n",
       "      <td>0</td>\n",
       "      <td>25</td>\n",
       "      <td>0</td>\n",
       "      <td>D</td>\n",
       "      <td>119.9</td>\n",
       "      <td>8.8</td>\n",
       "    </tr>\n",
       "  </tbody>\n",
       "</table>\n",
       "</div>"
      ],
      "text/plain": [
       "  REGION  STORM_NO        NAME  ADVISORY    ADV_DATE  ADV_HOUR  SPEED  \\\n",
       "0      W         0   THIRTYSIX         0  2018-12-30      1800     30   \n",
       "1      W         0   THIRTYSIX         0  2018-12-30      1200     30   \n",
       "2      W         0  THIRTYFIVE         0  2018-12-29      1200     15   \n",
       "3      W         0  THIRTYFIVE         0  2018-12-29       600     20   \n",
       "4      W         0  THIRTYFIVE         0  2018-12-29         0     25   \n",
       "\n",
       "   PRESSURE TYPE    LAT  LONG  \n",
       "0         0    D  111.0   6.6  \n",
       "1         0    D  111.2   7.7  \n",
       "2         0    D  118.7   9.4  \n",
       "3         0    D  119.3   9.2  \n",
       "4         0    D  119.9   8.8  "
      ]
     },
     "execution_count": 6,
     "metadata": {},
     "output_type": "execute_result"
    }
   ],
   "source": [
    "df.head()"
   ]
  },
  {
   "cell_type": "code",
   "execution_count": 7,
   "id": "c78234a9",
   "metadata": {},
   "outputs": [
    {
     "data": {
      "text/plain": [
       "array(['THIRTYSIX', 'THIRTYFIVE', 'PHETHAI', 'GAJA', 'LUBAN', 'TITLI',\n",
       "       'MANGKHUT', 'BARIJAT', 'YAGI', 'LEEPI', 'BEBINCA', 'FOUR', 'IRIS',\n",
       "       'HOLA', 'LINDA', 'GITA', 'JOYCE', '┬áMAN-YI', 'USAGI', 'TORAJI',\n",
       "       'KENI', 'YUTU', 'SHANSHAN', 'AVA', 'IRVING', 'TRAMI', 'KONG-REY',\n",
       "       'TWENTYNINE', 'EWINIAR', 'CEBILE', 'SIXTEEN', 'JEBI', 'SOULIK',\n",
       "       'TWENTYFOUR', 'CIMARON', 'RUMBIA', 'DUMAZILE', 'JONGDARI',\n",
       "       'WUKONG', 'SON-TINH', 'AMPIL', 'THIRTEEN', 'PRAPIROON', 'MALIKSI',\n",
       "       'SEVEN', 'GAEMI', 'MEKUNU', 'SAGAR', 'FLAMBOYAN', 'FAKIR', 'JOSIE',\n",
       "       'BOLAVEN', 'JELAWAT', 'NORA', 'MARCUS', 'ELIAKIM', 'KELVIN',\n",
       "       'FEHI', 'BERGUITTA', 'HILDA', 'TEMBIN', 'KAI_TAK', 'HAIKUI',\n",
       "       'KHANUN', 'DOKSURI', 'TALIM', 'BANYAN', 'MERBOK', 'ELLA', 'DAHLIA',\n",
       "       'KIROGI', 'COOK', 'SAOLA', 'LAN', 'TWENTYSIX', 'TWENTYTWO',\n",
       "       'TWENTYTHREE', 'DONNA', 'ONE', 'MAWAR', 'SANVU', 'PAKHAR', 'HATO',\n",
       "       'NORU', 'HAITANG', 'NESAT', 'SONCA', 'KULAP', 'ROKE', 'TALAS',\n",
       "       'GUCHOL', 'FOURTEEN', 'MORA', 'NALGAE', 'MUIFA', 'MAARUTHA', 'TWO',\n",
       "       'NANMADOL', 'DEBBIE', 'DAMREY', 'EIGHT', 'BART', 'ALFRED', '30W',\n",
       "       'VARDAH', 'NADA', 'OTTO', 'TOKAGE', 'TWENTYSEVEN', 'MEARI',\n",
       "       'KYANT', 'HAIM', 'SARIKA', '25W', 'AERE', 'SONGDA', '23W', 'CHABA',\n",
       "       'MEGI', 'MALAKAS', 'MERANTI', 'EIGHTEEN', 'RAI', 'SEVENTEEN',\n",
       "       'NAMTHEUN', 'LIONROCK', '14W', 'MINDULLE', 'KOMPASU', 'DIANMU',\n",
       "       'TEN', 'CHANTHU', 'CONSON', '08W', 'OMAIS', 'NIDA', 'MIRINAE',\n",
       "       'LUPIT', 'ABELA', 'THREE', 'NEPARTAK', 'ROANU', 'AMOS', 'FANTALA',\n",
       "       'ZENA', 'EMERAUDE', 'YALO', 'WINSTON', 'URIAH', 'TATIANA', 'DAYA',\n",
       "       'STAN', 'CORENTIN', 'VICTOR', 'ULA', 'NINE', '29W', 'MELOR',\n",
       "       'BOHALE', 'TUNI', 'IN_FA', 'ANNABELLE', 'MEGH', 'CHAPALA',\n",
       "       'CHAMPI', '26W', 'KOPPU', 'CHOI_WAN', 'MUJIGAE', 'DUJUAN',\n",
       "       'KROVANH', 'VAMCO', 'KILO', 'ETAU', 'GONI', 'ATSANI', 'MOLAVE',\n",
       "       'SOUDELOR', 'HALOLA', 'TWELVE', 'NANGKA', 'CHAN_HOM', 'LINFA',\n",
       "       'RAQUEL', 'KUJIRA', 'ASHOBAA', 'QUANG', 'DOLPHIN', 'NOUL', 'SOLO',\n",
       "       'JOALANE', 'IKOLA', 'HAISHEN', 'MAYSAK', 'NATHAN', 'REUBEN',\n",
       "       'BAVI', 'PAM', 'OLWYN', 'HALIBA', 'FIFTEEN', 'GLENDA', 'MARCIA',\n",
       "       'LAM', 'HIGOS', 'FUNDI', 'OLA', 'EUNICE', 'DIAMONDRA', 'NIKO',\n",
       "       'MEKKHALA', 'BANSI', 'CHEDZA', 'JANGMI', 'KATE', 'BAKUNG',\n",
       "       'HAGUPIT', 'SINLAKU', 'ADJALI', 'FIVE', 'NURI', 'NILOFAR',\n",
       "       'VONGFONG', 'HUDHUD', 'PHANFONE', 'KAMMURI', 'FUNG_WONG',\n",
       "       'KALMAEGI', 'FENGSHEN', 'HALONG', 'NAKRI', 'MATMO', 'RAMMASUN',\n",
       "       'NEOGURI', 'HAGIBIS', 'NANAUK', 'TAPAH', 'JACK', 'ITA', 'PEIPAH',\n",
       "       'IVANOE', 'HELLEN', 'FAXAI', 'GILLIAN', 'MIKE', 'LUSI', 'HADI',\n",
       "       'KOFI', 'GUITO', 'FOBANE', 'EDILSON', 'EDNA', 'KAJIKI', 'DYLAN',\n",
       "       'LINGLING', 'JUNE', 'DELIWE', 'COLIN', 'IAN', 'BEJISA',\n",
       "       'CHRISTINE', 'AMARA', 'BRUCE', 'MADI', 'THIRTY_THR', 'LEHAR',\n",
       "       'ALESSIA', 'HELEN', 'THIRTY', 'PODUL', 'HAIYAN', 'KROSA', 'FITOW',\n",
       "       'LEKIMA', 'FRANCISCO', 'WIPHA', 'NARI', 'PHAILIN', 'DANAS',\n",
       "       'SEPAT', 'WUTIP', 'PABUK', 'MAN_YI', 'KONG_REY', 'PEWA', 'UNALA',\n",
       "       'UTOR', 'MAHASEN', 'JAMALA', 'ZANE', 'SANDRA', 'RUSTY', 'GINO',\n",
       "       'HALEY', 'FELLENG', 'GARRY', 'PETA', 'OSWALD', 'EMANG', 'SONAMU',\n",
       "       'DUMILE', 'FREDA', 'BENILDE', 'MITCHELL', 'EVAN', 'CLAUDIA',\n",
       "       'BOPHA', 'BOLDWIN', 'TWENTYFIVE', 'NILAM', 'SON_TINH', 'MURJAN',\n",
       "       'MARIA', 'ANAIS', 'SANBA', 'VICENTE', 'TWENTYONE', 'KUENA',\n",
       "       'NINETEEN', 'DAPHNE', 'LUA', 'KOJI', 'IRINA', 'HILWA', 'GIOVANNA',\n",
       "       'JASMINE', 'CYRIL', 'IGGY', 'FUNSO', 'ETHEL', 'HEIDI', 'CHANDA',\n",
       "       'THANE', 'GRANT', 'WASHI', 'ALENGA', 'KEILA', 'NOCK_TEN', 'MA_ON',\n",
       "       'HAIMA', 'ERROL', 'TWENTY', 'BUNE', 'CHERONO', 'CARLOS', 'ATU',\n",
       "       'DIANNE', 'BINGIZA', 'ZAKA', 'YASI', 'ANTHONY', 'BIANCA', 'WILMA',\n",
       "       'ZELIA', 'VINCE', 'VANIA', 'TASHA', 'ABELE', 'JAL', 'ANGGREK',\n",
       "       '17W', 'GIRI', 'FANAPI', 'MALOU', 'PHET', 'BANDU', 'LAILA', 'SEAN',\n",
       "       'ROBYN', 'PAUL', 'IMANI', 'ULUI', 'TOMAS', 'HUBERT', 'SARAH',\n",
       "       'GELANE', 'RENE', 'PAT', 'OLI', 'FAMI', 'OLGA', 'NISHA', 'ELEVEN',\n",
       "       'MAGDA', 'EDZANI', 'DAVID', 'LAURENCE', 'MICK', 'WARD', 'CLEO',\n",
       "       '28W', 'BONGANI', 'ANJA', 'PHYAN', 'IDA', 'NEKI', 'RICK',\n",
       "       'PATRICIA', 'PARMA', 'HENRI', 'GRACE', 'OLAF', '18W', 'KETSANA',\n",
       "       '19W', 'MARTY', 'FRED', 'ERIKA', 'JIMENA', 'DUJAUN', 'KEVIN',\n",
       "       'DANNY', 'IGNACIO', 'BILL', 'GUILLERMO', 'MAKA', 'ANA',\n",
       "       'CLAUDETTE', 'FELICIA', 'MORAKOT', 'ENRIQUE', 'LANA', 'DOLORES',\n",
       "       'BLANCA', 'ANDRES', 'AILA', 'KIRRILY', 'BIJLI', 'JADE', 'LIN',\n",
       "       'IZILDA', 'JASPER', 'ILSA', 'KEN', 'JONI', 'HAMISH', 'GABRIELLE',\n",
       "       'HINA', 'INNIS', 'GAEL', 'FREDDY', 'ELLIE', 'HETTIE', 'DOMINIC',\n",
       "       'FANELE', 'ERIC', 'DONGO', 'CHARLOTTE', 'BILLY', 'CINDA', 'ANIKA',\n",
       "       'KHAI_MUK', 'PALOMA', 'POLO', 'RASHMI', 'SEVENTEEN_E', 'ASMA',\n",
       "       'TWENTYTHRE', 'OMAR', 'NANA', 'ODILE', 'NORBERT', 'MARCO', 'MARIE',\n",
       "       'LAURA', 'KYLE', 'IKE', 'LOWELL', 'HANNA', 'JOSEPHINE', 'GUSTAV',\n",
       "       'KARINA', 'FAY', 'JULIO', 'ISELLE', '11W', 'HERNAN', 'KIKA',\n",
       "       'EDOUARD', 'GENEVIEVE', 'DOLLY', 'CRISTOBAL', 'FAUSTO', 'BERTHA',\n",
       "       'ELIDA', '05E', 'DOUGLAS', 'BORIS', 'CRISTINA', 'ARTHUR', 'ALMA',\n",
       "       'ROSIE', 'DURGA', 'NARGIS', '27P', 'PANCHO', 'LOLA', '24P',\n",
       "       'JOKWE', 'KAMBA', 'OPHELIA', '20P', 'HONDO', 'NICHOLAS', 'IVAN',\n",
       "       '17S', 'GENE', 'GULA', 'FAME', 'FUNA', '01W', 'ELISA', 'ELNUS',\n",
       "       'MELANIE', 'DAMA', 'CELINA', 'DAMAN', 'MITAG', 'BONGWE', 'GUBA',\n",
       "       'LEE_ARIEL', 'SIDR', 'NOEL', '05A', 'KIKO', 'JULIETTE', 'MELISSA',\n",
       "       'KAREN', '14E', 'LORENZO', 'JERRY', 'IVO', 'THIRTEEN_E', '12E',\n",
       "       'INGRID', 'HUMBERTO', 'HENRIETTE', 'FELIX', 'GIL', 'ELEVEN_E',\n",
       "       '(10W)', '10E', 'DEAN', 'ERIN', 'FLOSSIE', '(09W)', '09E', '06W',\n",
       "       'ERICK', 'CHANTAL', '01S', 'DALILA', 'COSME', 'FOUR_E', '04B',\n",
       "       '03B', 'THREE_E', 'GONU', 'BARRY', 'BARBARA', 'ALVIN', 'PIERRE',\n",
       "       'AKASH', 'ANDREA', 'CLIFF', 'JAYA', 'BECKY', 'KARA', 'INDLADA',\n",
       "       'JACOB', 'GEORGE', 'GAMEDE', 'HUMBA', 'FAVIO', 'ENOK', 'DORA',\n",
       "       '11P', 'ZITA', 'CLOVIS', 'ISOBEL', 'BONDO', 'DURIAN', 'ANITA',\n",
       "       '04P', 'YANI', 'SERGIO', 'CHEBI', 'ROSA', 'XAVIER', 'NORMAN',\n",
       "       'OLIVIA', 'ISAAC', 'XANGSANE', '05B', 'HELENE', 'GORDON', 'MUKDA',\n",
       "       'FLORENCE', 'LANE', 'KRISTY', 'IOKE', 'JOHN', 'ERNESTO', 'DEBBY',\n",
       "       'ILEANA', 'HECTOR', 'SAOMAI', 'CHRIS', 'FABIO', 'GILMA', 'EMILIA',\n",
       "       'DANIEL', 'KAEMI', 'BERYL', 'unnamed', 'CARLOTTA', 'BUD', 'BILIS',\n",
       "       'ALBERTO', 'ALETTA', 'CHANCHU', 'MALA', 'MONICA', 'ELIA', 'ZETA',\n",
       "       'EPSILON', 'DELTA', 'GAMMA', 'BETA', 'ALPHA', 'TAMMY', 'SUBTROP',\n",
       "       'KENNETH', 'NORMA', 'RITA', 'JOVA', 'PHILIPPE', 'MAX', 'NATE',\n",
       "       'NABI', 'LEE', 'KATRINA', 'IRWIN', 'HILARY', 'JOSE', 'IRENE',\n",
       "       'FERNANDA', 'GREG', 'HARVEY', 'MATSA', 'ONE_C', 'FRANKLIN', 'GERT',\n",
       "       'EMILY', 'EUGENE', 'DENNIS', 'CINDY', 'BRET', 'CALVIN', 'BEATRIZ',\n",
       "       'ARLENE', 'ADRIAN', 'ADELINE_JULI', 'ISANG', 'PERCY', 'HENNIE',\n",
       "       'WILLY', 'RAE', 'NANCY', 'VIVIENNE', 'MEENA', 'GERARD', 'TIM',\n",
       "       'ERNEST', 'DAREN', '10S', '02B', 'KERRY', '01B', 'SALLY',\n",
       "       'RAYMOND', 'CHAMBO', 'AGNI', 'BENTO', 'AROLA', '04A', 'SIXTEEN_E',\n",
       "       'LESTER', 'MATTHEW', 'NICOLE', 'KAY', 'LISA', '03A', 'JEANNE',\n",
       "       'KARL', 'JAVIER', 'ISIS', 'FRANCES', 'HOWARD', 'PHOEBE', 'GASTON',\n",
       "       'HERMINE', 'GEORGETTE', 'FRANK', 'ESTELLE', 'DANIELLE', 'CHARLEY',\n",
       "       'EARL', 'BONNIE', 'RANANIM', 'ALEX', 'SIX_E', 'DARBY', 'TINGTING',\n",
       "       'CELIA', 'BLAS', '01A', '23S', 'AGATHA', '05W', 'JUBA', 'SUDAL',\n",
       "       '22P', 'MONTY', 'OSCAR_ITSENG', '02W', 'NICKY_HELMA', 'GAFILO',\n",
       "       'ELITA', 'IVY', 'HETA', 'DARIUS'], dtype=object)"
      ]
     },
     "execution_count": 7,
     "metadata": {},
     "output_type": "execute_result"
    }
   ],
   "source": [
    "df['NAME'].unique()"
   ]
  },
  {
   "cell_type": "code",
   "execution_count": 12,
   "id": "cda7cec9",
   "metadata": {},
   "outputs": [
    {
     "name": "stdout",
     "output_type": "stream",
     "text": [
      "Collecting basemap\n",
      "  Obtaining dependency information for basemap from https://files.pythonhosted.org/packages/87/91/8c050325bb13df8b95bc7c1dec9e275babb76d50af862719d79050e5ca8f/basemap-1.3.8-cp311-cp311-manylinux1_x86_64.whl.metadata\n",
      "  Downloading basemap-1.3.8-cp311-cp311-manylinux1_x86_64.whl.metadata (7.7 kB)\n",
      "Requirement already satisfied: basemap-data<1.4,>=1.3.2 in /home/kaye/anaconda3/lib/python3.11/site-packages (from basemap) (1.3.2)\n",
      "Collecting pyshp<2.4,>=1.2 (from basemap)\n",
      "  Downloading pyshp-2.3.1-py2.py3-none-any.whl (46 kB)\n",
      "\u001b[2K     \u001b[38;2;114;156;31m━━━━━━━━━━━━━━━━━━━━━━━━━━━━━━━━━━━━━━━\u001b[0m \u001b[32m46.5/46.5 kB\u001b[0m \u001b[31m311.7 kB/s\u001b[0m eta \u001b[36m0:00:00\u001b[0m kB/s\u001b[0m eta \u001b[36m0:00:01\u001b[0m:01\u001b[0m\n",
      "\u001b[?25hRequirement already satisfied: matplotlib<3.8,>=1.5 in /home/kaye/anaconda3/lib/python3.11/site-packages (from basemap) (3.7.2)\n",
      "Collecting pyproj<3.7.0,>=1.9.3 (from basemap)\n",
      "  Obtaining dependency information for pyproj<3.7.0,>=1.9.3 from https://files.pythonhosted.org/packages/64/90/dfe5c00de1ca4dbb82606e79790659d4ed7f0ed8d372bccb3baca2a5abe0/pyproj-3.6.1-cp311-cp311-manylinux_2_17_x86_64.manylinux2014_x86_64.whl.metadata\n",
      "  Downloading pyproj-3.6.1-cp311-cp311-manylinux_2_17_x86_64.manylinux2014_x86_64.whl.metadata (31 kB)\n",
      "Requirement already satisfied: numpy<1.26,>=1.21 in /home/kaye/anaconda3/lib/python3.11/site-packages (from basemap) (1.24.3)\n",
      "Requirement already satisfied: contourpy>=1.0.1 in /home/kaye/anaconda3/lib/python3.11/site-packages (from matplotlib<3.8,>=1.5->basemap) (1.0.5)\n",
      "Requirement already satisfied: cycler>=0.10 in /home/kaye/anaconda3/lib/python3.11/site-packages (from matplotlib<3.8,>=1.5->basemap) (0.11.0)\n",
      "Requirement already satisfied: fonttools>=4.22.0 in /home/kaye/anaconda3/lib/python3.11/site-packages (from matplotlib<3.8,>=1.5->basemap) (4.25.0)\n",
      "Requirement already satisfied: kiwisolver>=1.0.1 in /home/kaye/anaconda3/lib/python3.11/site-packages (from matplotlib<3.8,>=1.5->basemap) (1.4.4)\n",
      "Requirement already satisfied: packaging>=20.0 in /home/kaye/anaconda3/lib/python3.11/site-packages (from matplotlib<3.8,>=1.5->basemap) (23.1)\n",
      "Requirement already satisfied: pillow>=6.2.0 in /home/kaye/anaconda3/lib/python3.11/site-packages (from matplotlib<3.8,>=1.5->basemap) (9.4.0)\n",
      "Requirement already satisfied: pyparsing<3.1,>=2.3.1 in /home/kaye/anaconda3/lib/python3.11/site-packages (from matplotlib<3.8,>=1.5->basemap) (3.0.9)\n",
      "Requirement already satisfied: python-dateutil>=2.7 in /home/kaye/anaconda3/lib/python3.11/site-packages (from matplotlib<3.8,>=1.5->basemap) (2.8.2)\n",
      "Requirement already satisfied: certifi in /home/kaye/anaconda3/lib/python3.11/site-packages (from pyproj<3.7.0,>=1.9.3->basemap) (2023.11.17)\n",
      "Requirement already satisfied: six>=1.5 in /home/kaye/anaconda3/lib/python3.11/site-packages (from python-dateutil>=2.7->matplotlib<3.8,>=1.5->basemap) (1.16.0)\n",
      "Downloading basemap-1.3.8-cp311-cp311-manylinux1_x86_64.whl (861 kB)\n",
      "\u001b[2K   \u001b[38;2;114;156;31m━━━━━━━━━━━━━━━━━━━━━━━━━━━━━━━━━━━━━━━\u001b[0m \u001b[32m861.7/861.7 kB\u001b[0m \u001b[31m670.4 kB/s\u001b[0m eta \u001b[36m0:00:00\u001b[0mm eta \u001b[36m0:00:01\u001b[0m0:01\u001b[0m:01\u001b[0m\n",
      "\u001b[?25hDownloading pyproj-3.6.1-cp311-cp311-manylinux_2_17_x86_64.manylinux2014_x86_64.whl (8.6 MB)\n",
      "\u001b[2K   \u001b[38;2;114;156;31m━━━━━━━━━━━━━━━━━━━━━━━━━━━━━━━━━━━━━━━━\u001b[0m \u001b[32m8.6/8.6 MB\u001b[0m \u001b[31m605.1 kB/s\u001b[0m eta \u001b[36m0:00:00\u001b[0mm eta \u001b[36m0:00:01\u001b[0m[36m0:00:01\u001b[0m\n",
      "\u001b[?25hInstalling collected packages: pyshp, pyproj, basemap\n",
      "Successfully installed basemap-1.3.8 pyproj-3.6.1 pyshp-2.3.1\n",
      "Note: you may need to restart the kernel to use updated packages.\n"
     ]
    }
   ],
   "source": [
    "pip install basemap"
   ]
  },
  {
   "cell_type": "code",
   "execution_count": 8,
   "id": "996e8676",
   "metadata": {},
   "outputs": [],
   "source": [
    "def MapTemplate(plt_title):\n",
    "  plt.figure(figsize=(10, 8))\n",
    "  m1 = Basemap(llcrnrlon=-100.,llcrnrlat=0.,urcrnrlon=30.,urcrnrlat=57.,projection='lcc',lat_1=20.,lat_2=40.,lon_0=-60.,resolution ='l',area_thresh=1000.)    \n",
    "  m1.drawcoastlines()\n",
    "  m1.drawparallels(np.arange(10,70,10),labels=[1,1,0,0])\n",
    "  m1.drawmeridians(np.arange(-100,0,10),labels=[0,0,0,1])\n",
    "  plt.suptitle(plt_title, fontsize=16)\n",
    "  return m1"
   ]
  },
  {
   "cell_type": "code",
   "execution_count": 9,
   "id": "d9db925c",
   "metadata": {},
   "outputs": [],
   "source": [
    "def AllStormTracks(hurdat2):\n",
    "  m1 = MapTemplate(\"Atlantic Hurricane Historical Storms (1851-2014)\")\n",
    "  UniqueStorms = df.NAME.unique()\n",
    "  for stormid, track in df.groupby('NAME'):\n",
    "      lat_storm = track.LAT.values\n",
    "      lon_storm = track.LONG.values\n",
    "      x1, y1 = m1(lon_storm,lat_storm)\n",
    "      plt.plot(x1,y1,'r-',linewidth=0.5)\n",
    "  plt.title('Total Number of Storms = '+ str(len(UniqueStorms)))\n",
    "  "
   ]
  },
  {
   "cell_type": "code",
   "execution_count": 8,
   "id": "d60fc471",
   "metadata": {},
   "outputs": [
    {
     "name": "stdout",
     "output_type": "stream",
     "text": [
      "Retrieving notices: ...working... done\n",
      "Collecting package metadata (current_repodata.json): / WARNING conda.models.version:get_matcher(556): Using .* with relational operator is superfluous and deprecated and will be removed in a future version of conda. Your spec was 1.7.1.*, but conda is ignoring the .* and treating it as 1.7.1\n",
      "done\n",
      "Solving environment: - ^C\n",
      "\\ "
     ]
    }
   ],
   "source": [
    "!conda config --add channels conda-forge\n",
    "!conda config --set channel_priority strict\n",
    "!conda install basemap"
   ]
  },
  {
   "cell_type": "code",
   "execution_count": 10,
   "id": "72745df0",
   "metadata": {},
   "outputs": [
    {
     "ename": "NameError",
     "evalue": "name 'Basemap' is not defined",
     "output_type": "error",
     "traceback": [
      "\u001b[0;31m---------------------------------------------------------------------------\u001b[0m",
      "\u001b[0;31mNameError\u001b[0m                                 Traceback (most recent call last)",
      "Cell \u001b[0;32mIn[10], line 1\u001b[0m\n\u001b[0;32m----> 1\u001b[0m AllStormTracks(df)\n",
      "Cell \u001b[0;32mIn[9], line 2\u001b[0m, in \u001b[0;36mAllStormTracks\u001b[0;34m(hurdat2)\u001b[0m\n\u001b[1;32m      1\u001b[0m \u001b[38;5;28;01mdef\u001b[39;00m \u001b[38;5;21mAllStormTracks\u001b[39m(hurdat2):\n\u001b[0;32m----> 2\u001b[0m   m1 \u001b[38;5;241m=\u001b[39m MapTemplate(\u001b[38;5;124m\"\u001b[39m\u001b[38;5;124mAtlantic Hurricane Historical Storms (1851-2014)\u001b[39m\u001b[38;5;124m\"\u001b[39m)\n\u001b[1;32m      3\u001b[0m   UniqueStorms \u001b[38;5;241m=\u001b[39m df\u001b[38;5;241m.\u001b[39mNAME\u001b[38;5;241m.\u001b[39munique()\n\u001b[1;32m      4\u001b[0m   \u001b[38;5;28;01mfor\u001b[39;00m stormid, track \u001b[38;5;129;01min\u001b[39;00m df\u001b[38;5;241m.\u001b[39mgroupby(\u001b[38;5;124m'\u001b[39m\u001b[38;5;124mNAME\u001b[39m\u001b[38;5;124m'\u001b[39m):\n",
      "Cell \u001b[0;32mIn[8], line 3\u001b[0m, in \u001b[0;36mMapTemplate\u001b[0;34m(plt_title)\u001b[0m\n\u001b[1;32m      1\u001b[0m \u001b[38;5;28;01mdef\u001b[39;00m \u001b[38;5;21mMapTemplate\u001b[39m(plt_title):\n\u001b[1;32m      2\u001b[0m   plt\u001b[38;5;241m.\u001b[39mfigure(figsize\u001b[38;5;241m=\u001b[39m(\u001b[38;5;241m10\u001b[39m, \u001b[38;5;241m8\u001b[39m))\n\u001b[0;32m----> 3\u001b[0m   m1 \u001b[38;5;241m=\u001b[39m Basemap(llcrnrlon\u001b[38;5;241m=\u001b[39m\u001b[38;5;241m-\u001b[39m\u001b[38;5;241m100.\u001b[39m,llcrnrlat\u001b[38;5;241m=\u001b[39m\u001b[38;5;241m0.\u001b[39m,urcrnrlon\u001b[38;5;241m=\u001b[39m\u001b[38;5;241m30.\u001b[39m,urcrnrlat\u001b[38;5;241m=\u001b[39m\u001b[38;5;241m57.\u001b[39m,projection\u001b[38;5;241m=\u001b[39m\u001b[38;5;124m'\u001b[39m\u001b[38;5;124mlcc\u001b[39m\u001b[38;5;124m'\u001b[39m,lat_1\u001b[38;5;241m=\u001b[39m\u001b[38;5;241m20.\u001b[39m,lat_2\u001b[38;5;241m=\u001b[39m\u001b[38;5;241m40.\u001b[39m,lon_0\u001b[38;5;241m=\u001b[39m\u001b[38;5;241m-\u001b[39m\u001b[38;5;241m60.\u001b[39m,resolution \u001b[38;5;241m=\u001b[39m\u001b[38;5;124m'\u001b[39m\u001b[38;5;124ml\u001b[39m\u001b[38;5;124m'\u001b[39m,area_thresh\u001b[38;5;241m=\u001b[39m\u001b[38;5;241m1000.\u001b[39m)    \n\u001b[1;32m      4\u001b[0m   m1\u001b[38;5;241m.\u001b[39mdrawcoastlines()\n\u001b[1;32m      5\u001b[0m   m1\u001b[38;5;241m.\u001b[39mdrawparallels(np\u001b[38;5;241m.\u001b[39marange(\u001b[38;5;241m10\u001b[39m,\u001b[38;5;241m70\u001b[39m,\u001b[38;5;241m10\u001b[39m),labels\u001b[38;5;241m=\u001b[39m[\u001b[38;5;241m1\u001b[39m,\u001b[38;5;241m1\u001b[39m,\u001b[38;5;241m0\u001b[39m,\u001b[38;5;241m0\u001b[39m])\n",
      "\u001b[0;31mNameError\u001b[0m: name 'Basemap' is not defined"
     ]
    },
    {
     "data": {
      "text/plain": [
       "<Figure size 1000x800 with 0 Axes>"
      ]
     },
     "metadata": {},
     "output_type": "display_data"
    }
   ],
   "source": [
    "AllStormTracks(df)"
   ]
  },
  {
   "cell_type": "code",
   "execution_count": null,
   "id": "fc598737",
   "metadata": {},
   "outputs": [],
   "source": []
  }
 ],
 "metadata": {
  "kernelspec": {
   "display_name": "Python 3 (ipykernel)",
   "language": "python",
   "name": "python3"
  },
  "language_info": {
   "codemirror_mode": {
    "name": "ipython",
    "version": 3
   },
   "file_extension": ".py",
   "mimetype": "text/x-python",
   "name": "python",
   "nbconvert_exporter": "python",
   "pygments_lexer": "ipython3",
   "version": "3.11.5"
  }
 },
 "nbformat": 4,
 "nbformat_minor": 5
}
