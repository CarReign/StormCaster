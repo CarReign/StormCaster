{
 "cells": [
  {
   "cell_type": "code",
   "execution_count": 1,
   "id": "8b818183",
   "metadata": {},
   "outputs": [
    {
     "ename": "ModuleNotFoundError",
     "evalue": "No module named 'mpl_toolkits.basemap'",
     "output_type": "error",
     "traceback": [
      "\u001b[0;31m---------------------------------------------------------------------------\u001b[0m",
      "\u001b[0;31mModuleNotFoundError\u001b[0m                       Traceback (most recent call last)",
      "Cell \u001b[0;32mIn[1], line 2\u001b[0m\n\u001b[1;32m      1\u001b[0m \u001b[38;5;28;01mimport\u001b[39;00m \u001b[38;5;21;01mmatplotlib\u001b[39;00m\u001b[38;5;21;01m.\u001b[39;00m\u001b[38;5;21;01mpyplot\u001b[39;00m \u001b[38;5;28;01mas\u001b[39;00m \u001b[38;5;21;01mplt\u001b[39;00m\n\u001b[0;32m----> 2\u001b[0m \u001b[38;5;28;01mfrom\u001b[39;00m \u001b[38;5;21;01mmpl_toolkits\u001b[39;00m\u001b[38;5;21;01m.\u001b[39;00m\u001b[38;5;21;01mbasemap\u001b[39;00m \u001b[38;5;28;01mimport\u001b[39;00m Basemap\n\u001b[1;32m      3\u001b[0m \u001b[38;5;28;01mimport\u001b[39;00m \u001b[38;5;21;01mpandas\u001b[39;00m \u001b[38;5;28;01mas\u001b[39;00m \u001b[38;5;21;01mpd\u001b[39;00m\n\u001b[1;32m      5\u001b[0m \u001b[38;5;66;03m# Replace 'your_dataset.csv' with the actual name of your CSV file\u001b[39;00m\n\u001b[1;32m      6\u001b[0m \u001b[38;5;66;03m# The CSV file should have 'Longitude' and 'Latitude' columns\u001b[39;00m\n",
      "\u001b[0;31mModuleNotFoundError\u001b[0m: No module named 'mpl_toolkits.basemap'"
     ]
    }
   ],
   "source": [
    "import matplotlib.pyplot as plt\n",
    "from mpl_toolkits.basemap import Basemap\n",
    "import pandas as pd\n",
    "\n",
    "# Replace 'your_dataset.csv' with the actual name of your CSV file\n",
    "# The CSV file should have 'Longitude' and 'Latitude' columns\n",
    "df = pd.read_csv('ph.csv')\n",
    "\n",
    "# Define a function for creating a map template\n",
    "def MapTemplate(plt_title):\n",
    "    plt.figure(figsize=(10, 8))\n",
    "    m = Basemap(\n",
    "        llcrnrlon=116.5, llcrnrlat=4., urcrnrlon=127., urcrnrlat=21.,\n",
    "        projection='lcc', lat_1=12., lat_2=18., lon_0=122., resolution='h', area_thresh=1000.\n",
    "    )\n",
    "    m.drawcoastlines()\n",
    "    m.drawparallels(range(5, 21, 2), labels=[1, 0, 0, 0])\n",
    "    m.drawmeridians(range(117, 128, 2), labels=[0, 0, 0, 1])\n",
    "    plt.title(plt_title, fontsize=16)\n",
    "    return m\n",
    "\n",
    "# Plot the unique coordinates on the map\n",
    "def PlotCoordinatesOnMap(df, title):\n",
    "    m = MapTemplate(title)\n",
    "    x, y = m(df['Longitude'].values, df['Latitude'].values)\n",
    "    m.scatter(x, y, marker='o', color='red', label='Unique Coordinates', zorder=5)\n",
    "    plt.legend()\n",
    "    plt.show()\n",
    "\n",
    "# Call the function to plot the coordinates\n",
    "PlotCoordinatesOnMap(df, 'Map of Unique Coordinates in the Philippines')"
   ]
  },
  {
   "cell_type": "code",
   "execution_count": 2,
   "id": "9432a113",
   "metadata": {},
   "outputs": [
    {
     "name": "stdout",
     "output_type": "stream",
     "text": [
      "Collecting package metadata (current_repodata.json): failed\n",
      "\n",
      "CondaHTTPError: HTTP 000 CONNECTION FAILED for url <https://conda.anaconda.org/conda-forge/noarch/current_repodata.json>\n",
      "Elapsed: -\n",
      "\n",
      "An HTTP error occurred when trying to retrieve this URL.\n",
      "HTTP errors are often intermittent, and a simple retry will get you on your way.\n",
      "'https//conda.anaconda.org/conda-forge/noarch'\n",
      "\n",
      "\n"
     ]
    }
   ],
   "source": [
    "!conda install -c conda-forge basemap-data-hires "
   ]
  },
  {
   "cell_type": "code",
   "execution_count": null,
   "id": "69afdeb0",
   "metadata": {},
   "outputs": [],
   "source": []
  }
 ],
 "metadata": {
  "kernelspec": {
   "display_name": "Python 3 (ipykernel)",
   "language": "python",
   "name": "python3"
  },
  "language_info": {
   "codemirror_mode": {
    "name": "ipython",
    "version": 3
   },
   "file_extension": ".py",
   "mimetype": "text/x-python",
   "name": "python",
   "nbconvert_exporter": "python",
   "pygments_lexer": "ipython3",
   "version": "3.11.5"
  }
 },
 "nbformat": 4,
 "nbformat_minor": 5
}
